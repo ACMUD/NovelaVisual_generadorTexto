{
  "nbformat": 4,
  "nbformat_minor": 0,
  "metadata": {
    "colab": {
      "name": "Untitled0.ipynb",
      "provenance": []
    },
    "kernelspec": {
      "name": "python3",
      "display_name": "Python 3"
    },
    "accelerator": "TPU"
  },
  "cells": [
    {
      "cell_type": "code",
      "metadata": {
        "id": "acGT5rIeSeGx",
        "colab_type": "code",
        "colab": {
          "base_uri": "https://localhost:8080/",
          "height": 496
        },
        "outputId": "12a6de2a-c9dd-45ff-a0a9-03fb8bdcf6cf"
      },
      "source": [
        "# Importa/Instala y Boletas\n",
        "!pip install git+https://github.com/huggingface/transformers"
      ],
      "execution_count": 133,
      "outputs": [
        {
          "output_type": "stream",
          "text": [
            "Collecting git+https://github.com/huggingface/transformers\n",
            "  Cloning https://github.com/huggingface/transformers to /tmp/pip-req-build-bedc5w_8\n",
            "  Running command git clone -q https://github.com/huggingface/transformers /tmp/pip-req-build-bedc5w_8\n",
            "Requirement already satisfied (use --upgrade to upgrade): transformers==2.11.0 from git+https://github.com/huggingface/transformers in /usr/local/lib/python3.6/dist-packages\n",
            "Requirement already satisfied: numpy in /usr/local/lib/python3.6/dist-packages (from transformers==2.11.0) (1.18.5)\n",
            "Requirement already satisfied: tokenizers==0.8.0-rc1 in /usr/local/lib/python3.6/dist-packages (from transformers==2.11.0) (0.8.0rc1)\n",
            "Requirement already satisfied: packaging in /usr/local/lib/python3.6/dist-packages (from transformers==2.11.0) (20.4)\n",
            "Requirement already satisfied: filelock in /usr/local/lib/python3.6/dist-packages (from transformers==2.11.0) (3.0.12)\n",
            "Requirement already satisfied: requests in /usr/local/lib/python3.6/dist-packages (from transformers==2.11.0) (2.23.0)\n",
            "Requirement already satisfied: tqdm>=4.27 in /usr/local/lib/python3.6/dist-packages (from transformers==2.11.0) (4.41.1)\n",
            "Requirement already satisfied: regex!=2019.12.17 in /usr/local/lib/python3.6/dist-packages (from transformers==2.11.0) (2019.12.20)\n",
            "Requirement already satisfied: sentencepiece in /usr/local/lib/python3.6/dist-packages (from transformers==2.11.0) (0.1.91)\n",
            "Requirement already satisfied: sacremoses in /usr/local/lib/python3.6/dist-packages (from transformers==2.11.0) (0.0.43)\n",
            "Requirement already satisfied: dataclasses in /usr/local/lib/python3.6/dist-packages (from transformers==2.11.0) (0.7)\n",
            "Requirement already satisfied: six in /usr/local/lib/python3.6/dist-packages (from packaging->transformers==2.11.0) (1.12.0)\n",
            "Requirement already satisfied: pyparsing>=2.0.2 in /usr/local/lib/python3.6/dist-packages (from packaging->transformers==2.11.0) (2.4.7)\n",
            "Requirement already satisfied: idna<3,>=2.5 in /usr/local/lib/python3.6/dist-packages (from requests->transformers==2.11.0) (2.9)\n",
            "Requirement already satisfied: chardet<4,>=3.0.2 in /usr/local/lib/python3.6/dist-packages (from requests->transformers==2.11.0) (3.0.4)\n",
            "Requirement already satisfied: urllib3!=1.25.0,!=1.25.1,<1.26,>=1.21.1 in /usr/local/lib/python3.6/dist-packages (from requests->transformers==2.11.0) (1.24.3)\n",
            "Requirement already satisfied: certifi>=2017.4.17 in /usr/local/lib/python3.6/dist-packages (from requests->transformers==2.11.0) (2020.4.5.2)\n",
            "Requirement already satisfied: joblib in /usr/local/lib/python3.6/dist-packages (from sacremoses->transformers==2.11.0) (0.15.1)\n",
            "Requirement already satisfied: click in /usr/local/lib/python3.6/dist-packages (from sacremoses->transformers==2.11.0) (7.1.2)\n",
            "Building wheels for collected packages: transformers\n",
            "  Building wheel for transformers (setup.py) ... \u001b[?25l\u001b[?25hdone\n",
            "  Created wheel for transformers: filename=transformers-2.11.0-cp36-none-any.whl size=704152 sha256=49d641ab0289c091ad4ee247d4a53d5bddeb881046446211d90c60d29bf9906d\n",
            "  Stored in directory: /tmp/pip-ephem-wheel-cache-op81irup/wheels/70/d3/52/b3fa4f8b8ef04167ac62e5bb2accb62ae764db2a378247490e\n",
            "Successfully built transformers\n"
          ],
          "name": "stdout"
        }
      ]
    },
    {
      "cell_type": "code",
      "metadata": {
        "id": "SfcNVJYbSnYP",
        "colab_type": "code",
        "colab": {}
      },
      "source": [
        "# (Nada) Importa y Tablero de Anuncios\n",
        "import torch\n",
        "from transformers import *\n",
        "import random\n",
        "\n",
        "# Estructura en tuplas para los modelos, con su tokenizer y sus preentrenados y Dj\n",
        "MODELS = [(GPT2LMHeadModel, GPT2Tokenizer , 'gpt2-large')]\n",
        "tokenizer=[]\n",
        "model = []\n",
        "\n",
        "# Lista de-generos y Clasificacion\n",
        "GENEROS = [\"Aventura\",\"Comedia\",\"Fantasia\",\"Terror\",\"Acción\",\"Thriller\",\"Romance\",\n",
        "           \"Ciencia Ficción\",\"Drama\",\"Misterio\"]\n",
        "\n",
        "# Diccionario de personajes por genero y Teloneros\n",
        "PERSONAJES = {\"Aventura\":[\"Zelda\",\"Samus\",\"Arthur Pendragon\",\"Arthur Eld\"],\n",
        "              \"Comedia\":[\"Groucho\",\"Groucho Marx\",\"Dandelo\",\"Robin Williams\"],\n",
        "              \"Fantasia\":[\"Link\", \"Navi\"],\n",
        "              \"Terror\":[\"Pennywise\"],\n",
        "              \"Acción\":[\"Rambo\"],\n",
        "              \"Thriller\":[\"Hannibal Lecter\"],\n",
        "              \"Romance\":[\"Julieta\",\"Jack Dawson\"],\n",
        "              \"Ciencia Ficción\":[\"Rick Sanchez\",\"Doc Brown\"],\n",
        "              \"Drama\":[\"Dolores Claiborne\",\"andy dufresne\"],\n",
        "              \"Misterio\":[\"Sherlock Holmes\"]}\n",
        "# Diccionario de locaciones por genero y Gira\n",
        "LUGARES = {\"NN\":[\"the Opera\",\"the Races\",\"home\",\"his flat\",\"my roomie's job-place\",\n",
        "                 \"college\"],\n",
        "           \"Aventura\":[\"Lethal Lava Land\", \"seaward\", \"The Colosseum\",\"seaward\"],\n",
        "           \"Comedia\":[\"my mother-in-law's house\"],\n",
        "           \"Fantasia\":[\"Kindom\",\"Rhye\",\"Elfland\"],\n",
        "           \"Terror\":[\"Innsmouth\",\"R'lyeh\"],\n",
        "           \"Acción\":[\"The White House\"],\n",
        "           \"Thriller\":[\"abandoned house\"],\n",
        "           \"Romance\":[\"Roma\"],\n",
        "           \"Ciencia Ficción\":[\"spaceship\"],\n",
        "           \"Drama\":[\"elderhouse\"],\n",
        "           \"Misterio\":[\"haunted house\"]}\n",
        "# Diccionario de tiempos por genero y Numero\n",
        "# notese que estan en minuscula\n",
        "TIEMPOS = {\"NN\":[\"meanwhile\",\"at\",\"at night\",\"yesterday\",\"tonight\",\"before\"],\n",
        "           \"Aventura\":[\"once upon a time\",\"during his reign\"],\n",
        "           \"Comedia\":[\"in my youth\",\"before I married\",\"before he married\",\n",
        "                      \"before she married\"],\n",
        "           \"Fantasia\":[\"before elf revolution\",\"previously\"],\"Terror\":[],\"Acción\":[],\n",
        "           \"Thriller\":[],\"Romance\":[\"in my youth\",],\n",
        "           \"Ciencia Ficción\":[\"3M years over\"],\"Drama\":[],\n",
        "           \"Misterio\":[\"at a stormy night\"]}\n",
        "# Diccionario de acciones/verbos por genero e Improvisaciones\n",
        "# notese que estan en minuscula\n",
        "ACCIONES = {\"NN\":[\"eat\",\"drink\",\"walk\",\"talk\",\"think\",\"think of\",\"think about\",\n",
        "                  \"run\",\"feel\",\"do\",\"go to\",\"go\"],\n",
        "            \"Aventura\":[\"fight\",\"sail\",\"search\",\"trip\"],\n",
        "            \"Comedia\":[\"say\",\"punch\",\"be racist\",\"say jerk\"],\n",
        "            \"Fantasia\":[\"fly\",\"hunt\",\"travel\",\"trip\",\"fight\",\"search\",\"found\",\n",
        "                        \"dream\",\"scream\"],\n",
        "            \"Terror\":[\"scream\",\"run\",\"run away\",\"yell\",\"flee\",\"shout\",\n",
        "                      \"dream\",\"have a nightmare\",\"have a dreamscape\",\"have a hallucination\",\n",
        "                      \"feel\"],\n",
        "            \"Acción\":[\"fight\"],\n",
        "            \"Thriller\":[\"think\"],\n",
        "            \"Romance\":[\"fight\"],\n",
        "            \"Ciencia Ficción\":[\"fight\"],\n",
        "            \"Drama\":[\"cry\"],\n",
        "            \"Misterio\":[\"found\"]}\n",
        "# Diccionario de eventos por genero y Estilo Propio\n",
        "# notese que estan en minuscula\n",
        "EVENTOS = {\"NN\":[\"pee\"],\n",
        "           \"Aventura\":[\"seeking\"],\n",
        "           \"Comedia\":[\"pantomime\",\"mummery\"],\n",
        "           \"Fantasia\":[\"invasion\",\"drought\",\"oddesy\",\"elf invasion\"],\n",
        "           \"Terror\":[\"pandemic\",\"invasion\"],\n",
        "           \"Acción\":[\"gunfire\"],\n",
        "           \"Thriller\":[\"pandemic\"],\n",
        "           \"Romance\":[\"marriage\",\"date\",\"death\"],\n",
        "           \"Ciencia Ficción\":[\"pandemic\",\"oddesy\",\"interstellar trip\",\"invasion\"],\n",
        "           \"Drama\":[\"divorce\"],\n",
        "           \"Misterio\":[\"call the police\",\"questioning\",\"hiding\",\"seeking\"]}\n",
        "\n",
        "# Diccionario de eventos por genero y Playback\n",
        "# notese que estan en minuscula\n",
        "CLAVES = {\"NN\":[\"[personaje] is a\",\"[personaje] in [lugar] then\",\n",
        "                \"[personaje] in [lugar] then [evento]\",\"finally [evento]\",\n",
        "                \"finally after [lugar] now\",\"at last [personaje]\",\n",
        "                \"so [personaje] [accion]\"],\n",
        "          \"Aventura\":[],\"Comedia\":[],\n",
        "          \"Fantasia\":[\"[personaje] who in other time\",\"[personaje] who in [tiempo]\"],\n",
        "          \"Terror\":[],\"Acción\":[],\"Thriller\":[],\"Romance\":[],\"Ciencia Ficción\":[],\n",
        "          \"Drama\":[],\"Misterio\":[]}\n",
        "# = {\"Aventura\":[],\"Comedia\":[],\"Fantasia\":[],\"Terror\":[],\"Acción\":[],\"Thriller\":[],\"Romance\":[],\"Ciencia Ficción\":[],\"Drama\":[],\"Misterio\":[]}"
      ],
      "execution_count": 134,
      "outputs": []
    },
    {
      "cell_type": "code",
      "metadata": {
        "id": "PV8ObHPy0ztE",
        "colab_type": "code",
        "colab": {}
      },
      "source": [
        "# Ensamblador especifico y Musa:\n",
        "def ensambladorMini(frase:str,clave:str,insercion:list) -> str:\n",
        "  if insercion == None or insercion == []:\n",
        "    return frase\n",
        "  fin = str(\"#\"*random.randint(1,5)+\"%\"*random.randint(1,5)+\"$\"*random.randint(1,5))\n",
        "  frase=\" \"+frase+fin\n",
        "  j=0\n",
        "  for i in frase.split(\"[\"+clave+\"]\"):\n",
        "    if j==0:\n",
        "      frase = i\n",
        "    else:\n",
        "      frase += i\n",
        "    if fin not in i:\n",
        "      frase += insercion[j]\n",
        "    j += 1\n",
        "  return frase.split(fin)[0]\n",
        "\n",
        "# Ensamblador de frases y Ensayos\n",
        "#(este debe ser modificado para utilizar las claves de multiplicidad)\n",
        "def ensambladorFrase(frase:str,personajes:list,lugares:list,tiempos:list,acciones:list,eventos:list) -> str:\n",
        "    return ensambladorMini(\n",
        "        ensambladorMini(\n",
        "            ensambladorMini(\n",
        "                ensambladorMini(\n",
        "                    ensambladorMini(\n",
        "                          frase,\"personaje\",personajes),\n",
        "                          \"lugar\",lugares),\n",
        "                    \"tiempo\",tiempos),\n",
        "                \"accion\",acciones),\n",
        "            \"evento\",eventos)\n",
        "    \n",
        "# Generador de frases por parametros y Anuncio\n",
        "#(esta es la parte que le correspondera a otra fase)\n",
        "def generarFrase(genero:str=None,clave=None,contexto:str=None):\n",
        "    '''\n",
        "    Metodo que ensambla una frase con las claves identificadas\n",
        "    # Si el genero no esta entre los generos se hace None\n",
        "    if genero not in GENEROS:\n",
        "      genero = None\n",
        "    # Si no recibio genero o lo perdio se hace una frase general\n",
        "    if genero == None:\n",
        "      genero==\"NN\"\n",
        "    # Si no tiene un contexto\n",
        "    #(esta es la parte que le correspondera a otra fase)\n",
        "    if contexto != None:\n",
        "    CLAVES[]'''\n",
        "    return\n",
        "\n",
        "# Generador de especificaciones y Peticion del Publico\n",
        "#(este debe ser modificado para utilizar dinamicamente las frases)\n",
        "def peticionFrase():\n",
        "  return\n",
        "\n",
        "# Retorno aleatorio y Ordenanza\n",
        "def obtenerAleatorio(L:list):\n",
        "  i = random.randint(0,len(L)-1)\n",
        "  return L[i]"
      ],
      "execution_count": 140,
      "outputs": []
    },
    {
      "cell_type": "code",
      "metadata": {
        "id": "eU2hPocpfsSR",
        "colab_type": "code",
        "colab": {}
      },
      "source": [
        "# Retorno aleatorio y Tecnico\n",
        "#(este debe filtrar las frases, para no repetir y esas vainas)\n",
        "def depuradorHistoria(frase:str):\n",
        "  return frase"
      ],
      "execution_count": 141,
      "outputs": []
    },
    {
      "cell_type": "code",
      "metadata": {
        "id": "YWQMw7LfSnWy",
        "colab_type": "code",
        "colab": {}
      },
      "source": [
        "# Main y Entrada\n",
        "def main():\n",
        "  for model_class, tokenizer_class, pretrained_weights in MODELS:\n",
        "      print(model_class) # Pa' saber en cual va\n",
        "      # Carga el preentrenado con el modelo/tokenizer\n",
        "      tok = tokenizer_class.from_pretrained(pretrained_weights)\n",
        "      tokenizer.append(tok)\n",
        "      mod = model_class.from_pretrained(pretrained_weights,\n",
        "                                        pad_token_id=tokenizer[-1].eos_token_id)\n",
        "      model.append(mod)"
      ],
      "execution_count": 142,
      "outputs": []
    },
    {
      "cell_type": "code",
      "metadata": {
        "id": "khWQCORsSnU9",
        "colab_type": "code",
        "colab": {}
      },
      "source": [
        "# Codifica textos para cada estructura, almacena en un arreglo y Acto\n",
        "def generadorHistoria(INPUT:str=None,genero:str=None) -> str:\n",
        "  if INPUT == None:\n",
        "    if genero == None:\n",
        "        genero = obtenerAleatorio(GENEROS)\n",
        "    INPUT = ensambladorFrase(obtenerAleatorio(CLAVES[\"NN\"]),\n",
        "                           PERSONAJES[genero],\n",
        "                           LUGARES[genero],\n",
        "                           TIEMPOS[genero],\n",
        "                           ACCIONES[genero],\n",
        "                           EVENTOS[genero])\n",
        "  for i in range(len(MODELS)):\n",
        "      input_ids = tokenizer[i].encode(INPUT, add_space_before_punct_symbol=True, return_tensors='pt')\n",
        "      INPUT = (model[i].generate(input_ids, max_length=2*len(INPUT),no_repeat_ngram_size=2,repetition_penalty=4))\n",
        "      return depuradorHistoria(str(tokenizer[i].decode(INPUT[0], skip_special_tokens=True)))"
      ],
      "execution_count": 152,
      "outputs": []
    },
    {
      "cell_type": "code",
      "metadata": {
        "id": "Y9ngrhlE0zkb",
        "colab_type": "code",
        "colab": {
          "base_uri": "https://localhost:8080/",
          "height": 34
        },
        "outputId": "067a1cb2-54df-4222-ba56-7318e28d1cf3"
      },
      "source": [
        "main()"
      ],
      "execution_count": 138,
      "outputs": [
        {
          "output_type": "stream",
          "text": [
            "<class 'transformers.modeling_gpt2.GPT2LMHeadModel'>\n"
          ],
          "name": "stdout"
        }
      ]
    },
    {
      "cell_type": "code",
      "metadata": {
        "id": "Y6vuUK1X6-og",
        "colab_type": "code",
        "colab": {}
      },
      "source": [
        "# Pruebas y Lanzamiento del Tour\n",
        "#i = random.randint(0,len(CLAVES[\"NN\"])-1)\n",
        "#print(CLAVES[\"NN\"][i])\n",
        "#print(ensambladorFrase(CLAVES[\"NN\"][i],PERSONAJES[\"Fantasia\"],LUGARES[\"Fantasia\"],TIEMPOS[\"Fantasia\"],ACCIONES[\"Fantasia\"],EVENTOS[\"Fantasia\"]))\n",
        "print(generadorHistoria())\n",
        "print(generadorHistoria(genero=\"Fantasia\"))\n",
        "print(generadorHistoria(\"Mario in Middle-Earth\"))"
      ],
      "execution_count": null,
      "outputs": []
    }
  ]
}
